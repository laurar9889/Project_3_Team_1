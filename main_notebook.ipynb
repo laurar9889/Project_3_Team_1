import pandas as pd
import os
import csv
import matplotlib as plt
from pathlib import Path
import numpy as np


# Load the data
Hdf = pd.read_csv('Resources/Hdata.csv')

# Display the first few rows of the DataFrame to verify
Hdf.head()

Hdf_cleaned = Hdf[['ParentLocation', 'Location', 'Period', 'Dim2', 'Value', 'FactComments']]

Hdf_cleaned.head()

# Create a copy of the DataFrame
hDf_cleaned = Hdf_cleaned.copy()

# Rename the 'Value' column to 'Adolescent birth rate (per 1000 women)'
hDf_cleaned.rename(columns={'Value': 'Adolescent birth rate (per 1000 women)', 'Dim2': 'Age-group'}, inplace=True)

# Export the cleaned data to CSV
hDf_cleaned.to_csv("Output/Halima.csv", index=False)

# Group by 'Location' (country) and find the maximum Adolescent birth rate
max_birth_rate =hDf_cleaned.groupby('Location')['Adolescent birth rate (per 1000 women)'].max()

# Find the country with the highest Adolescent birth rate
highest_birth_rate_country = max_birth_rate.idxmax()
highest_birth_rate_value = max_birth_rate.max()

print(f"The country with the highest Adolescent birth rate (per 1000 women) is {highest_birth_rate_country} with a rate of {highest_birth_rate_value}")


min_birth_rate = hDf_cleaned.groupby('Location')['Adolescent birth rate (per 1000 women)'].min()

# Find the country with the lowest Adolescent birth rate
lowest_birth_rate_country = min_birth_rate.idxmin()
lowest_birth_rate_value = min_birth_rate.min()

print(f"The country with the lowest Adolescent birth rate (per 1000 women) is {lowest_birth_rate_country} with a rate of {lowest_birth_rate_value}")

highest_rate = hDf_cleaned.sort_values(by='Adolescent birth rate (per 1000 women)', ascending=False)

highest_rate.head(10)

# Sort the DataFrame in ascending order based on 'Adolescent birth rate (per 1000 women)'
lowest_rate = hDf_cleaned.sort_values(by='Adolescent birth rate (per 1000 women)', ascending=True)

# Display the sorted DataFrame
lowest_rate.head(10)

# Count occurrences of Age-group values
age_group_counts = hDf_cleaned['Age-group'].value_counts()

# Display the counts
print("Age-group counts:")
print(age_group_counts)


csvpath = Path('.', 'Resources', 'births-attended-by-skilled-health-personnel.csv')

# Read the CSV into a Pandas DataFrame
skilled_personnel_df = pd.read_csv(csvpath, low_memory=False)

# Print the first rows of data to the screen
skilled_personnel_df.head()

#make a copy of dataframe and drop unwanted columns
clean_df_skilled_personnel = skilled_personnel_df.drop(['Indicator','FactValueUoM', 'FactValueNumericLowPrefix',
                                                        'FactValueNumericPrefix','FactValueNumericLow','FactValueTranslationID', 'Dim2', 'Dim2 type', 'Dim1 type',
                                                        'Dim2ValueCode', 'Dim3', 'DataSourceDimValueCode', 'Dim3ValueCode', 'DataSource', 'Dim1ValueCode', 'Dim3 type',
                                                        'Dim1', 'FactValueNumericHighPrefix', 'FactValueNumericHigh'], axis=1)
clean_df_skilled_personnel.head()


parent_location = clean_df_skilled_personnel.groupby(["ParentLocation"])["Value"].value_counts()
pd.DataFrame(parent_location)



