{
 "cells": [
  {
   "cell_type": "code",
   "execution_count": null,
   "metadata": {},
   "outputs": [],
   "source": [
    "#Import dependencies\n",
    "import csv\n",
    "import os\n",
    "import matplotlib as plt\n",
    "import pandas as pd\n",
    "from pathlib import Path\n",
    "import numpy as np\n"
   ]
  },
  {
   "cell_type": "code",
   "execution_count": null,
   "metadata": {},
   "outputs": [],
   "source": [
    "# Load the data\n",
    "Hdf = pd.read_csv('Resources/Hdata.csv')\n",
    "\n",
    "# Display the first few rows of the DataFrame to verify\n",
    "Hdf.head()"
   ]
  },
  {
   "cell_type": "code",
   "execution_count": null,
   "metadata": {},
   "outputs": [],
   "source": [
    "Hdf_cleaned = Hdf[['ParentLocation', 'Location', 'Period', 'Dim2', 'Value', 'FactComments']]\n",
    "\n",
    "Hdf_cleaned.head()"
   ]
  },
  {
   "cell_type": "code",
   "execution_count": null,
   "metadata": {},
   "outputs": [],
   "source": [
    "# Create a copy of the DataFrame\n",
    "hDf_cleaned = Hdf_cleaned.copy()\n",
    "\n",
    "# Rename the 'Value' column to 'Adolescent birth rate (per 1000 women)'\n",
    "hDf_cleaned.rename(columns={'Value': 'Adolescent birth rate (per 1000 women)', 'Dim2': 'Age-group'}, inplace=True)\n",
    "hDf_cleaned.head()"
   ]
  },
  {
   "cell_type": "code",
   "execution_count": null,
   "metadata": {},
   "outputs": [],
   "source": [
    "# Export the cleaned data to CSV\n",
    "hDf_cleaned.to_csv(\"Output/Halima.csv\", index=False)"
   ]
  },
  {
   "cell_type": "code",
   "execution_count": null,
   "metadata": {},
   "outputs": [],
   "source": [
    "# Group by 'Location' (country) and find the maximum Adolescent birth rate\n",
    "max_birth_rate =hDf_cleaned.groupby('Location')['Adolescent birth rate (per 1000 women)'].max()\n",
    "\n",
    "# Find the country with the highest Adolescent birth rate\n",
    "highest_birth_rate_country = max_birth_rate.idxmax()\n",
    "highest_birth_rate_value = max_birth_rate.max()\n",
    "\n",
    "print(f\"The country with the highest Adolescent birth rate (per 1000 women) is {highest_birth_rate_country} with a rate of {highest_birth_rate_value}\")"
   ]
  },
  {
   "cell_type": "code",
   "execution_count": null,
   "metadata": {},
   "outputs": [],
   "source": [
    "min_birth_rate = hDf_cleaned.groupby('Location')['Adolescent birth rate (per 1000 women)'].min()\n",
    "\n",
    "# Find the country with the lowest Adolescent birth rate\n",
    "lowest_birth_rate_country = min_birth_rate.idxmin()\n",
    "lowest_birth_rate_value = min_birth_rate.min()\n",
    "\n",
    "print(f\"The country with the lowest Adolescent birth rate (per 1000 women) is {lowest_birth_rate_country} with a rate of {lowest_birth_rate_value}\")"
   ]
  },
  {
   "cell_type": "code",
   "execution_count": null,
   "metadata": {},
   "outputs": [],
   "source": [
    "highest_rate = hDf_cleaned.sort_values(by='Adolescent birth rate (per 1000 women)', ascending=False)\n",
    "\n",
    "highest_rate.head(10)"
   ]
  },
  {
   "cell_type": "code",
   "execution_count": null,
   "metadata": {},
   "outputs": [],
   "source": [
    "# Sort the DataFrame in ascending order based on 'Adolescent birth rate (per 1000 women)'\n",
    "lowest_rate = hDf_cleaned.sort_values(by='Adolescent birth rate (per 1000 women)', ascending=True)\n",
    "\n",
    "# Display the sorted DataFrame\n",
    "lowest_rate.head(10)"
   ]
  },
  {
   "cell_type": "code",
   "execution_count": null,
   "metadata": {},
   "outputs": [],
   "source": [
    "# Count occurrences of Age-group values\n",
    "age_group_counts = hDf_cleaned['Age-group'].value_counts()\n",
    "\n",
    "# Display the counts\n",
    "print(\"Age-group counts:\")\n",
    "print(age_group_counts)"
   ]
  },
  {
   "cell_type": "code",
   "execution_count": null,
   "metadata": {},
   "outputs": [],
   "source": [
    "#LR#\n",
    "csvpath = Path('.', 'Resources', 'births-attended-by-skilled-health-personnel.csv')"
   ]
  },
  {
   "cell_type": "code",
   "execution_count": null,
   "metadata": {},
   "outputs": [],
   "source": [
    "#LR# Read the CSV into a Pandas DataFrame\n",
    "skilled_personnel_df = pd.read_csv(csvpath, low_memory=False)\n",
    "\n",
    "# Print the first rows of data to the screen\n",
    "skilled_personnel_df.head()"
   ]
  },
  {
   "cell_type": "code",
   "execution_count": null,
   "metadata": {},
   "outputs": [],
   "source": [
    "#LR#make a copy of dataframe and drop unwanted columns\n",
    "clean_df_skilled_personnel = skilled_personnel_df.drop(['Indicator','FactValueUoM', 'FactValueNumericLowPrefix',\n",
    "                                                        'FactValueNumericPrefix','FactValueNumericLow','FactValueTranslationID', 'Dim2', 'Dim2 type', 'Dim1 type',\n",
    "                                                        'Dim2ValueCode', 'Dim3', 'DataSourceDimValueCode', 'Dim3ValueCode', 'DataSource', 'Dim1ValueCode', 'Dim3 type',\n",
    "                                                        'Dim1', 'FactValueNumericHighPrefix', 'FactValueNumericHigh'], axis=1)\n",
    "clean_df_skilled_personnel.head()"
   ]
  },
  {
   "cell_type": "code",
   "execution_count": null,
   "metadata": {},
   "outputs": [],
   "source": [
    "#LR#\n",
    "parent_location = clean_df_skilled_personnel.groupby([\"ParentLocation\"])[\"Value\"].value_counts()\n",
    "pd.DataFrame(parent_location)"
   ]
  }
 ],
 "metadata": {
  "language_info": {
   "name": "python"
  }
 },
 "nbformat": 4,
 "nbformat_minor": 2
}
