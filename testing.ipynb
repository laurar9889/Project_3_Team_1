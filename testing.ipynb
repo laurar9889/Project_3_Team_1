{
 "cells": [
  {
   "cell_type": "code",
   "execution_count": 1,
   "metadata": {},
   "outputs": [],
   "source": [
    "import pandas as pd"
   ]
  },
  {
   "cell_type": "code",
   "execution_count": 7,
   "metadata": {},
   "outputs": [],
   "source": [
    "# Load the CSV files\n",
    "#Hdf = pd.read_csv('Resources/Hdata.csv')\n",
    "adolescent_birth_rate = pd.read_csv('output/Adelocsent_birthRate.csv')\n",
    "birth_by_skilled_personnel = pd.read_csv('output/birth_by_skilled_personnel.csv')\n",
    "care_coverage = pd.read_csv('output/care_coverage.csv')\n",
    "family_planning = pd.read_csv('output/family_planning.csv')"
   ]
  },
  {
   "cell_type": "code",
   "execution_count": null,
   "metadata": {},
   "outputs": [],
   "source": [
    "print(adolescent_birth_rate.head())\n",
    "print(birth_by_skilled_personnel.head())\n",
    "print(care_coverage.head())\n",
    "print(family_planning.head())\n"
   ]
  },
  {
   "cell_type": "code",
   "execution_count": 14,
   "metadata": {},
   "outputs": [
    {
     "name": "stdout",
     "output_type": "stream",
     "text": [
      "ParentLocation            object\n",
      "Location                  object\n",
      "Period                     int64\n",
      "Age-group                 object\n",
      "Adolescent_birth_rate    float64\n",
      "FactComments              object\n",
      "dtype: object\n",
      "IndicatorCode           object\n",
      "ParentLocationCode      object\n",
      "ParentLocation          object\n",
      "SpatialDimValueCode     object\n",
      "Location                object\n",
      "Period type             object\n",
      "Period                  object\n",
      "Value                  float64\n",
      "FactComments            object\n",
      "DateModified            object\n",
      "dtype: object\n"
     ]
    }
   ],
   "source": [
    "print(adolescent_birth_rate.dtypes)\n",
    "print(birth_by_skilled_personnel.dtypes)"
   ]
  },
  {
   "cell_type": "code",
   "execution_count": null,
   "metadata": {},
   "outputs": [],
   "source": [
    "# Convert Period in adolescent_birth_rate to string\n",
    "adolescent_birth_rate['Period'] = adolescent_birth_rate['Period'].astype(str)\n",
    "\n",
    "# Rename 'Period' in birth_by_skilled_personnel to avoid conflict\n",
    "birth_by_skilled_personnel = birth_by_skilled_personnel.rename(columns={'Period': 'Period_Skilled'})\n",
    "\n",
    "# Convert Period_Skilled to string in birth_by_skilled_personnel\n",
    "birth_by_skilled_personnel['Period_Skilled'] = birth_by_skilled_personnel['Period_Skilled'].astype(str)\n",
    "\n",
    "# Merge adolescent_birth_rate and birth_by_skilled_personnel on ParentLocation and Location\n",
    "merged_df_1 = pd.merge(adolescent_birth_rate, birth_by_skilled_personnel, \n",
    "                       left_on=['ParentLocation', 'Location', 'Period'], \n",
    "                       right_on=['ParentLocation', 'Location', 'Period_Skilled'], \n",
    "                       suffixes=('', '_skilled'),\n",
    "                       how='outer')"
   ]
  },
  {
   "cell_type": "code",
   "execution_count": null,
   "metadata": {},
   "outputs": [],
   "source": [
    "# Merge the first two DataFrames\n",
    "merged_df_1 = pd.merge(adolescent_birth_rate, birth_by_skilled_personnel, \n",
    "                       left_on=['ParentLocation', 'Location', 'Period'], \n",
    "                       right_on=['ParentLocation', 'Location', 'Period'], \n",
    "                       how='outer')"
   ]
  },
  {
   "cell_type": "code",
   "execution_count": null,
   "metadata": {},
   "outputs": [],
   "source": [
    "# Merge the result with care_coverage\n",
    "merged_df_2 = pd.merge(merged_df_1, care_coverage, \n",
    "                       on=['ParentLocation', 'Location', 'Period'], \n",
    "                       how='outer')"
   ]
  },
  {
   "cell_type": "code",
   "execution_count": null,
   "metadata": {},
   "outputs": [],
   "source": [
    "# Finally, merge with family_planning\n",
    "final_merged_df = pd.merge(merged_df_2, family_planning, \n",
    "                           left_on=['ParentLocation', 'Location', 'Period'], \n",
    "                           right_on=['ParentLocation_Continent', 'Country', 'Starting_Year'], \n",
    "                           how='outer')\n"
   ]
  },
  {
   "cell_type": "code",
   "execution_count": null,
   "metadata": {},
   "outputs": [],
   "source": [
    "final_merged_df.head()"
   ]
  }
 ],
 "metadata": {
  "kernelspec": {
   "display_name": "bootcamp",
   "language": "python",
   "name": "python3"
  },
  "language_info": {
   "codemirror_mode": {
    "name": "ipython",
    "version": 3
   },
   "file_extension": ".py",
   "mimetype": "text/x-python",
   "name": "python",
   "nbconvert_exporter": "python",
   "pygments_lexer": "ipython3",
   "version": "3.10.13"
  }
 },
 "nbformat": 4,
 "nbformat_minor": 2
}
